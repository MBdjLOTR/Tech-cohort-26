{
 "cells": [
  {
   "cell_type": "code",
   "execution_count": 3,
   "metadata": {},
   "outputs": [
    {
     "name": "stdout",
     "output_type": "stream",
     "text": [
      "*\t\n",
      "*\t*\t\n",
      "*\t*\t*\t\n",
      "*\t*\t*\t*\t\n",
      "*\t*\t*\t*\t*\t\n",
      "*\t*\t*\t*\t*\t*\t\n"
     ]
    }
   ],
   "source": [
    "x=int(input('Enter  number of rows:'))\n",
    "for a in range(1,x+1):\n",
    "    for b in range(0,a):\n",
    "        print('*',end='\\t')\n",
    "    print()"
   ]
  },
  {
   "cell_type": "code",
   "execution_count": 7,
   "metadata": {},
   "outputs": [
    {
     "name": "stdout",
     "output_type": "stream",
     "text": [
      "*\t*\t*\t*\t*\t*\t*\t\n",
      "*\t*\t*\t*\t*\t*\t\n",
      "*\t*\t*\t*\t*\t\n",
      "*\t*\t*\t*\t\n",
      "*\t*\t*\t\n",
      "*\t*\t\n",
      "*\t\n"
     ]
    }
   ],
   "source": [
    "x=int(input('Enter  number of rows:'))\n",
    "for a in range(x+1,0,-1):\n",
    "    for b in range(a,0,-1):\n",
    "        print('*',end='\\t')\n",
    "    print()"
   ]
  },
  {
   "cell_type": "code",
   "execution_count": 5,
   "metadata": {},
   "outputs": [
    {
     "name": "stdout",
     "output_type": "stream",
     "text": [
      "*\t*\t*\t*\t*\t\n",
      "\t*\t*\t*\t*\t\n",
      "\t\t*\t*\t*\t\n",
      "\t\t\t*\t*\t\n",
      "\t\t\t\t*\t\n"
     ]
    }
   ],
   "source": [
    "n=int(input(\"Enter number of rows: \"))\n",
    "for i in range (n,0,-1):\n",
    "    print((n-i) * '\\t' + i * '*\\t')\n"
   ]
  },
  {
   "cell_type": "code",
   "execution_count": 6,
   "metadata": {},
   "outputs": [
    {
     "name": "stdout",
     "output_type": "stream",
     "text": [
      "Reverse Mirrored Right Triangle Star Pattern\n",
      "*  *  *  *  *  \n",
      "   *  *  *  *  \n",
      "      *  *  *  \n",
      "         *  *  \n",
      "            *  \n"
     ]
    }
   ],
   "source": [
    "rows = int(input(\"Please Enter the Total Number of Rows  : \"))\n",
    "\n",
    "print(\"Reverse Mirrored Right Triangle Star Pattern\") \n",
    "for i in range(1, rows + 1):\n",
    "    for j in range(1, rows + 1):\n",
    "        if(j < i):\n",
    "            print(' ', end = '  ')\n",
    "        else:\n",
    "            print('*', end = '  ')\n",
    "    print()"
   ]
  },
  {
   "cell_type": "code",
   "execution_count": 7,
   "metadata": {},
   "outputs": [
    {
     "name": "stdout",
     "output_type": "stream",
     "text": [
      "Mirrored Right Triangle Star Pattern\n",
      "            *  \n",
      "         *  *  \n",
      "      *  *  *  \n",
      "   *  *  *  *  \n",
      "*  *  *  *  *  \n"
     ]
    }
   ],
   "source": [
    "rows = int(input(\"Please Enter the Total Number of Rows  : \"))\n",
    "\n",
    "print(\"Mirrored Right Triangle Star Pattern\") \n",
    "for i in range(1, rows + 1):\n",
    "    for j in range(1, rows + 1):\n",
    "        if(j <= rows - i):\n",
    "            print(' ', end = '  ')\n",
    "        else:\n",
    "            print('*', end = '  ')\n",
    "    print()"
   ]
  },
  {
   "cell_type": "code",
   "execution_count": 9,
   "metadata": {},
   "outputs": [
    {
     "name": "stdout",
     "output_type": "stream",
     "text": [
      " \t \t*\t\n",
      " \t*\t*\t*\t\n",
      "*\t*\t*\t*\t*\t\n",
      " \t*\t*\t*\t\n",
      " \t \t*\t\n"
     ]
    }
   ],
   "source": [
    "# Diamond pattern\n",
    "\n",
    "# Reading number of row\n",
    "row = int(input('Enter number of row: '))\n",
    "\n",
    "# Upper part of diamond\n",
    "for i in range(1, row+1):\n",
    "    for j in range(1,row-i+1):\n",
    "        print(\" \", end=\"\\t\")\n",
    "    for j in range(1, 2*i):\n",
    "        print(\"*\", end=\"\\t\")\n",
    "    print()\n",
    "\n",
    "# Lower part of diamond\n",
    "for i in range(row-1,0, -1):\n",
    "    for j in range(1,row-i+1):\n",
    "        print(\" \", end=\"\\t\")\n",
    "    for j in range(1, 2*i):\n",
    "        print(\"*\", end=\"\\t\")\n",
    "    print()"
   ]
  },
  {
   "cell_type": "code",
   "execution_count": 16,
   "metadata": {},
   "outputs": [
    {
     "name": "stdout",
     "output_type": "stream",
     "text": [
      "X Star Pattern\n",
      "*   *\n",
      " * * \n",
      "  *  \n",
      " * * \n",
      "*   *\n"
     ]
    }
   ],
   "source": [
    "rows = int(input(\"Enter X Pattern Odd Rows = \"))\n",
    "\n",
    "print(\"X Star Pattern\") \n",
    "\n",
    "for i in range(0, rows):\n",
    "    for j in range(0, rows):\n",
    "        if(i == j or j == rows-1- i):\n",
    "            print('*', end = '')\n",
    "        else:\n",
    "            print(' ', end = '')\n",
    "    print()"
   ]
  },
  {
   "cell_type": "code",
   "execution_count": 2,
   "metadata": {},
   "outputs": [
    {
     "name": "stdout",
     "output_type": "stream",
     "text": [
      "*\t*\t*\t*\t*\t*\t\n",
      "*\t*\t \t \t*\t*\t\n",
      "*\t \t \t \t \t*\t\n",
      "*\t \t \t \t \t*\t\n",
      "*\t*\t \t \t*\t*\t\n",
      "*\t*\t*\t*\t*\t*\t\n"
     ]
    }
   ],
   "source": [
    "n=int(input('Enter the number of rows:'))\n",
    "for i in range(n,0,-1):\n",
    "    for j in range(i,0,-1):\n",
    "        print('*',end='\\t')\n",
    "    for j in range(2*(n-i)):\n",
    "        print(' ',end='\\t')\n",
    "    for j in range(i,0,-1):\n",
    "        print('*',end='\\t')\n",
    "    print()  \n",
    "for i in range(n):\n",
    "    for j in range(i+1):\n",
    "        print('*',end='\\t')\n",
    "    for j in range(2*(n-i-1)):\n",
    "        print(' ',end='\\t')\n",
    "    for j in range(i+1):\n",
    "        print('*',end='\\t')\n",
    "    print()   "
   ]
  },
  {
   "cell_type": "code",
   "execution_count": 7,
   "metadata": {},
   "outputs": [
    {
     "name": "stdout",
     "output_type": "stream",
     "text": [
      "\t\t\t**\n",
      "\t\t*\t\t*\n",
      "\t*\t\t\t\t*\n",
      "*\t\t\t\t\t\t*\n",
      "\t*\t\t\t\t*\n",
      "\t\t*\t\t*\n",
      "\t\t\t**\n"
     ]
    }
   ],
   "source": [
    "# Hollow Diamond pattern\n",
    "\n",
    "# Reading number of row\n",
    "row = int(input('Enter number of row: '))\n",
    "\n",
    "# Upper part of hollow diamond\n",
    "for i in range(1, row+1):\n",
    "    for j in range(1,row-i+1):\n",
    "        print(\"\\t\", end=\"\")\n",
    "    for j in range(1, 2*i+1):\n",
    "        if j==1 or j==2*i:\n",
    "            print(\"*\", end=\"\")\n",
    "        else:\n",
    "            print(\"\\t\", end=\"\")\n",
    "    print()\n",
    "\n",
    "# Lower part of hollow diamond\n",
    "for i in range(row-1,0, -1):\n",
    "    for j in range(1,row-i+1):\n",
    "        print(\"\\t\", end=\"\")\n",
    "    for j in range(1, 2*i+1):\n",
    "        if j==1 or j==2*i:\n",
    "            print(\"*\", end=\"\")\n",
    "        else:\n",
    "            print(\"\\t\", end=\"\")\n",
    "    print()"
   ]
  },
  {
   "cell_type": "code",
   "execution_count": 8,
   "metadata": {},
   "outputs": [
    {
     "name": "stdout",
     "output_type": "stream",
     "text": [
      "*\n",
      "\t*\n",
      "\t\t*\n",
      "\t\t\t*\n",
      "\t\t\t\t*\n"
     ]
    }
   ],
   "source": [
    "n=int(input('Enter length of diagonal:'))\n",
    "for i in range(n):\n",
    "    print('\\t'*i, end = '*\\n')"
   ]
  },
  {
   "cell_type": "code",
   "execution_count": 9,
   "metadata": {},
   "outputs": [
    {
     "name": "stdout",
     "output_type": "stream",
     "text": [
      "\t\t\t\t*\n",
      "\t\t\t*\n",
      "\t\t*\n",
      "\t*\n",
      "*\n"
     ]
    }
   ],
   "source": [
    "n=int(input('Enter length of diagonal:'))\n",
    "for i in range(n,-1,-1):\n",
    "    print('\\t'*i, end = '*\\n')"
   ]
  },
  {
   "cell_type": "code",
   "execution_count": 10,
   "metadata": {},
   "outputs": [
    {
     "name": "stdout",
     "output_type": "stream",
     "text": [
      "*\t\t\t\n",
      "\t*\t\t\n",
      "\t\t*\t\n",
      "\t\t\t*\n"
     ]
    }
   ],
   "source": [
    "n=int(input(\"Enter number of rows: \"))\n",
    "for i in range (n,0,-1):\n",
    "    print((n-i) * '\\t' +  '*'+(i-1)*'\\t')"
   ]
  },
  {
   "cell_type": "code",
   "execution_count": 18,
   "metadata": {},
   "outputs": [
    {
     "name": "stdout",
     "output_type": "stream",
     "text": [
      "The Multiplication Table of:  5\n",
      "5 x 1 = 5\n",
      "5 x 2 = 10\n",
      "5 x 3 = 15\n",
      "5 x 4 = 20\n",
      "5 x 5 = 25\n",
      "5 x 6 = 30\n",
      "5 x 7 = 35\n",
      "5 x 8 = 40\n",
      "5 x 9 = 45\n",
      "5 x 10 = 50\n"
     ]
    }
   ],
   "source": [
    "number = int(input (\"Enter the number of which the user wants to print the multiplication table: \"))      \n",
    "count = 1    \n",
    "# we are using while loop for iterating the multiplication 10 times      \n",
    "print (\"The Multiplication Table of: \", number)    \n",
    "while count <= 10:    \n",
    "    number = number * 1    \n",
    "    print (number, 'x', count, '=', number * count)    \n",
    "    count += 1    "
   ]
  },
  {
   "cell_type": "code",
   "execution_count": 20,
   "metadata": {},
   "outputs": [
    {
     "name": "stdout",
     "output_type": "stream",
     "text": [
      "      1 \n",
      "     1 1 \n",
      "    1 2 1 \n",
      "   1 3 3 1 \n",
      "  1 4 6 4 1 \n"
     ]
    }
   ],
   "source": [
    "\n",
    "# Print Pascal's Triangle in Python\n",
    "from math import factorial\n",
    " \n",
    "# input n\n",
    "n = int(input('Enter the number of rows:'))\n",
    "for i in range(n):\n",
    "    for j in range(n-i+1):\n",
    " \n",
    "        # for left spacing\n",
    "        print(end=\" \")\n",
    " \n",
    "    for j in range(i+1):\n",
    " \n",
    "        # nCr = n!/((n-r)!*r!)\n",
    "        print(factorial(i)//(factorial(j)*factorial(i-j)), end=\" \")\n",
    " \n",
    "    # for new line\n",
    "    print()"
   ]
  },
  {
   "cell_type": "code",
   "execution_count": 23,
   "metadata": {},
   "outputs": [
    {
     "name": "stdout",
     "output_type": "stream",
     "text": [
      "*       * \n",
      "*       * \n",
      "*   *   * \n",
      "* *   * * \n",
      "*       * \n"
     ]
    }
   ],
   "source": [
    "\n",
    "def print_pattern(n):\n",
    "    for row in range(n):\n",
    "        for column in range(n):\n",
    "            if(\n",
    "                    # first column\n",
    "                    (column == 0) or\n",
    "\n",
    "                    # last column\n",
    "                    (column == n-1) or\n",
    "\n",
    "                    # left slanting line\n",
    "                    (row+column == n-1 and row >= n//2) or\n",
    "\n",
    "                    # right slanting line\n",
    "                    (row == column and row >= n//2)\n",
    "            ):\n",
    "                print(\"*\", end=\" \")\n",
    "            else:\n",
    "                print(\" \", end=\" \")\n",
    "        print()\n",
    "\n",
    "\n",
    "size = int(input(\"Enter any size: \\t\"))\n",
    "print_pattern(size)"
   ]
  },
  {
   "cell_type": "code",
   "execution_count": 24,
   "metadata": {},
   "outputs": [
    {
     "name": "stdout",
     "output_type": "stream",
     "text": [
      "*       * * * * * \n",
      "*       *\n",
      "*       *\n",
      "*       *\n",
      "* * * * * * * * * \n",
      "        *       * \n",
      "        *       * \n",
      "        *       * \n",
      "* * * * *       * \n"
     ]
    }
   ],
   "source": [
    "n=int(input(\"enter size of swastika sign:\")) \n",
    "print(\"* \",end=\"\")\n",
    "\n",
    "for i in range(1, n-1):\n",
    "    print(\"  \",end=\"\")\n",
    "for i in range(1, n+1):\n",
    "    print(\"* \",end=\"\")\n",
    "print(\"\\r\")\n",
    "\n",
    "for i in range(1, n-1):\n",
    "    print(\"* \",end=\"\")\n",
    "    for j in range(1, n-1):\n",
    "       print(\"  \",end=\"\")\n",
    "    print(\"*\")\n",
    "\n",
    "for i in range(1, n+n):\n",
    "    print(\"* \",end=\"\")\n",
    "print(\"\\r\")\n",
    "\n",
    "for i in range(1, n-1):\n",
    "    for j in range(1, n):\n",
    "       print(\"  \",end=\"\")\n",
    "    print(\"* \",end=\"\")\n",
    "    for j in range(1, n-1):\n",
    "       print(\"  \",end=\"\")\n",
    "    print(\"* \")\n",
    "\n",
    "for i in range(1, n+1):\n",
    "    print(\"* \",end=\"\")\n",
    "for i in range(1, n-1):\n",
    "    print(\"  \",end=\"\")\n",
    "print(\"* \")"
   ]
  },
  {
   "cell_type": "code",
   "execution_count": 25,
   "metadata": {},
   "outputs": [
    {
     "name": "stdout",
     "output_type": "stream",
     "text": [
      "        * * * * * * \n",
      "         * * * * * \n",
      "          * * * * \n",
      "           * * * \n",
      "            * * \n",
      "             * \n",
      "        * \n",
      "      * * * \n",
      "    * * * * * \n",
      "  * * * * * * * \n",
      "* * * * * * * * * \n"
     ]
    }
   ],
   "source": [
    "rows = int(input(\"Enter number of rows: \")) \n",
    "  \n",
    "# It is used to print space  \n",
    "k = 2 * rows - 2  \n",
    "# Outer loop in reverse order  \n",
    "for i in range(rows, -1, -1):  \n",
    "    # Inner loop will print the number of space.  \n",
    "    for j in range(k, 0, -1):  \n",
    "        print(end=\" \")  \n",
    "    k = k + 1  \n",
    "    # This inner loop will print the number o stars  \n",
    "    for j in range(0, i + 1):  \n",
    "        print(\"*\", end=\" \")  \n",
    "    print(\"\")  \n",
    "\n",
    "k = 0\n",
    "\n",
    "for i in range(1, rows+1):\n",
    "    for space in range(1, (rows-i)+1):\n",
    "        print(end=\"  \")\n",
    "   \n",
    "    while k!=(2*i-1):\n",
    "        print(\"* \", end=\"\")\n",
    "        k += 1\n",
    "   \n",
    "    k = 0\n",
    "    print()"
   ]
  },
  {
   "cell_type": "code",
   "execution_count": 27,
   "metadata": {},
   "outputs": [
    {
     "name": "stdout",
     "output_type": "stream",
     "text": [
      " *********\n",
      "  *     *\n",
      "   *   *\n",
      "    * *\n",
      "     *\n"
     ]
    }
   ],
   "source": [
    "num = int(input(\"Enter the Number: \"))\n",
    "\n",
    "for i in range(1, num+1):\n",
    "    for j in range(0, i):\n",
    "        print(\" \", end=\"\")\n",
    "\n",
    "    for j in range(1, (num*2 - (2*i - 1))+1):\n",
    "        if i == 1 or j == 1 or j ==(num*2 -(2*i-1)):\n",
    "            print(\"*\", end=\"\")\n",
    "        else:\n",
    "            print(\" \", end=\"\")\n",
    "    print() "
   ]
  },
  {
   "cell_type": "code",
   "execution_count": 28,
   "metadata": {},
   "outputs": [
    {
     "name": "stdout",
     "output_type": "stream",
     "text": [
      "Generated Hourglass Pattern is: \n",
      "***********\n",
      " *********\n",
      "  *******\n",
      "   *****\n",
      "    ***\n",
      "     *\n",
      "    ***\n",
      "   *****\n",
      "  *******\n",
      " *********\n",
      "***********\n"
     ]
    }
   ],
   "source": [
    "# Hourglass pattern in Python\n",
    "\n",
    "# Reading number of rows\n",
    "row = int(input(\"Enter number of rows: \"))\n",
    "\n",
    "print(\"Generated Hourglass Pattern is: \")\n",
    "# Upper-half\n",
    "for i in range(row, 0, -1):\n",
    "    for j in range(row-i):\n",
    "        print(\" \", end=\"\")\n",
    "    for j in range(1, 2*i):\n",
    "        print(\"*\", end=\"\")\n",
    "    print()\n",
    "\n",
    "# Lower-half\n",
    "for i in range(2, row+1):\n",
    "    for j in range(row-i):\n",
    "        print(\" \", end=\"\")\n",
    "    for j in range(1, 2*i):\n",
    "        print(\"*\", end=\"\")\n",
    "    print()"
   ]
  },
  {
   "cell_type": "code",
   "execution_count": 29,
   "metadata": {},
   "outputs": [
    {
     "name": "stdout",
     "output_type": "stream",
     "text": [
      "Generated Hollow Hourglass Pattern is: \n",
      "***********\n",
      " *       *\n",
      "  *     *\n",
      "   *   *\n",
      "    * *\n",
      "     *\n",
      "    * *\n",
      "   *   *\n",
      "  *     *\n",
      " *       *\n",
      "***********\n"
     ]
    }
   ],
   "source": [
    "# Hollow hourglass pattern in Python\n",
    "\n",
    "# Reading number of rows\n",
    "row = int(input(\"Enter number of rows: \"))\n",
    "\n",
    "print(\"Generated Hollow Hourglass Pattern is: \")\n",
    "# Upper-half\n",
    "for i in range(row, 0, -1):\n",
    "    for j in range(row-i):\n",
    "        print(\" \", end=\"\")\n",
    "    for j in range(1, 2*i):\n",
    "        if i==1 or i==row or j==1 or j==2*i-1:\n",
    "            print(\"*\", end=\"\")\n",
    "        else:\n",
    "            print(\" \", end=\"\")\n",
    "    print()\n",
    "# Lower-half\n",
    "for i in range(2, row+1):\n",
    "    for j in range(row-i):\n",
    "        print(\" \", end=\"\")\n",
    "    for j in range(1, 2*i):\n",
    "        if i==1 or i==row or j==1 or j==2*i-1:\n",
    "            print(\"*\", end=\"\")\n",
    "        else:\n",
    "            print(\" \", end=\"\")\n",
    "    print()"
   ]
  }
 ],
 "metadata": {
  "kernelspec": {
   "display_name": "Python 3",
   "language": "python",
   "name": "python3"
  },
  "language_info": {
   "codemirror_mode": {
    "name": "ipython",
    "version": 3
   },
   "file_extension": ".py",
   "mimetype": "text/x-python",
   "name": "python",
   "nbconvert_exporter": "python",
   "pygments_lexer": "ipython3",
   "version": "3.10.5"
  },
  "orig_nbformat": 4,
  "vscode": {
   "interpreter": {
    "hash": "a9cff5a362bc38ef45d817ae74b1af54d6a076e3d773891282bce078b815ba34"
   }
  }
 },
 "nbformat": 4,
 "nbformat_minor": 2
}
