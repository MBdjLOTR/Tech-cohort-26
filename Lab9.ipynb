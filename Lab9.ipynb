{
  "nbformat": 4,
  "nbformat_minor": 0,
  "metadata": {
    "colab": {
      "provenance": [],
      "authorship_tag": "ABX9TyNpR6tyF9vcYECpj9RlMBpg",
      "include_colab_link": true
    },
    "kernelspec": {
      "name": "python3",
      "display_name": "Python 3"
    },
    "language_info": {
      "name": "python"
    }
  },
  "cells": [
    {
      "cell_type": "markdown",
      "metadata": {
        "id": "view-in-github",
        "colab_type": "text"
      },
      "source": [
        "<a href=\"https://colab.research.google.com/github/MBdjLOTR/Tech-cohort-26/blob/main/Lab9.ipynb\" target=\"_parent\"><img src=\"https://colab.research.google.com/assets/colab-badge.svg\" alt=\"Open In Colab\"/></a>"
      ]
    },
    {
      "cell_type": "code",
      "execution_count": null,
      "metadata": {
        "colab": {
          "base_uri": "https://localhost:8080/"
        },
        "id": "Wlj5lKqu5z1f",
        "outputId": "15b6b449-3217-4c37-89c9-69cabfdee3bc"
      },
      "outputs": [
        {
          "output_type": "stream",
          "name": "stdout",
          "text": [
            "enter the station name:Kolkata\n",
            "Enter the number of trains:2\n",
            "enter train name:Duronto Express\n",
            "Enter the number of carriages:2\n",
            "Enter coach number:D3\n",
            "Enter the number of passengers:45\n",
            "Enter coach number:D40\n",
            "Enter the number of passengers:40\n",
            "enter train name:Sealdah Express\n",
            "Enter the number of carriages:2\n",
            "Enter coach number:E3\n",
            "Enter the number of passengers:45\n",
            "Enter coach number:E5\n",
            "Enter the number of passengers:54\n",
            "{'Kolkata': {'Duronto Express': {'D3': 45, 'D40': 40}, 'Sealdah Express': {'E3': 45, 'E5': 54}}}\n"
          ]
        }
      ],
      "source": [
        "x=input('enter the station name:')\n",
        "y= int(input('Enter the number of trains:'))\n",
        "d1=dict()\n",
        "d2={}\n",
        "for z in range(y):\n",
        "  a=input('enter train name:')\n",
        "  b= int(input('Enter the number of carriages:'))\n",
        "  d3={}\n",
        "  for c in range(b):\n",
        "    coach=input(\"Enter coach number:\")\n",
        "    n=int(input(\"Enter the number of passengers:\"))\n",
        "    d3[coach]=n\n",
        "  d2[a]=d3\n",
        "d1[x]=d2\n",
        "print(d1)"
      ]
    },
    {
      "cell_type": "code",
      "source": [
        "def merge(d1,d2):\n",
        "  d={}\n",
        "  priority_dictionary=int(input('Enter the dictionary number that takes priority in case the same key  exists in both dictionaries:'))\n",
        "  for x in d1:\n",
        "    if x in d2:\n",
        "      if priority_dictionary==1:\n",
        "        d[x]=d1[x]\n",
        "      else:\n",
        "        d[x]=d2[x]\n",
        "    else:\n",
        "      d[x]=d1[x]\n",
        "  for x in d2:\n",
        "    if x not in d1:\n",
        "      d[x]=d2[x]\n",
        "  print('The merged dictionary is: ')\n",
        "  return d\n",
        "d1=eval(input('Enter dictionary 1:'))\n",
        "d2=eval(input('Enter dictionary 2:'))\n",
        "merge(d1,d2)\n",
        "\n",
        "\n"
      ],
      "metadata": {
        "id": "4erUkuJlBKO5",
        "colab": {
          "base_uri": "https://localhost:8080/"
        },
        "outputId": "59edc58f-40dc-4fca-f1bb-f94d195fd78a"
      },
      "execution_count": 10,
      "outputs": [
        {
          "output_type": "stream",
          "name": "stdout",
          "text": [
            "Enter dictionary 1:{1:'one',2:'two'}\n",
            "Enter dictionary 2:{'one':1,2:'Three','Three':3}\n",
            "Enter the dictionary number that takes priority in case the same key  exists in both dictionaries:2\n",
            "The merged dictionary is: \n"
          ]
        },
        {
          "output_type": "execute_result",
          "data": {
            "text/plain": [
              "{1: 'one', 2: 'Three', 'one': 1, 'Three': 3}"
            ]
          },
          "metadata": {},
          "execution_count": 10
        }
      ]
    }
  ]
}