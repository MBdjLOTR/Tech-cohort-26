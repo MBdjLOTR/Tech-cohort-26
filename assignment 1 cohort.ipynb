{
 "cells": [
  {
   "cell_type": "code",
   "execution_count": 37,
   "metadata": {},
   "outputs": [
    {
     "name": "stdout",
     "output_type": "stream",
     "text": [
      "*****\n",
      "   *\n",
      "  *\n",
      " *\n",
      "*****\n"
     ]
    }
   ],
   "source": [
    "print('*'*5)\n",
    "for x in range(3,-1,-1):\n",
    "    for y in range(x+1):\n",
    "        if y!=x:\n",
    "            print(' ',end='')\n",
    "        else:\n",
    "            print('*',end='')\n",
    "    if x==0:\n",
    "        print('*'*4)\n",
    "    else:\n",
    "        print()   \n",
    "   "
   ]
  },
  {
   "cell_type": "code",
   "execution_count": 1,
   "metadata": {},
   "outputs": [],
   "source": [
    "x=float(input('Enter marks of the student:'))\n",
    "if x>90:\n",
    "    a='Excellent'\n",
    "elif x>=80:\n",
    "    a=\"Good\"\n",
    "elif x>=70:\n",
    "    a='Fair'\n",
    "elif x>=60:\n",
    "    a='Meets expectations.'\n",
    "else:\n",
    "    a='Below par.'\n",
    "print(a)"
   ]
  },
  {
   "cell_type": "code",
   "execution_count": 2,
   "metadata": {},
   "outputs": [
    {
     "name": "stdout",
     "output_type": "stream",
     "text": [
      "\n",
      "All prime numbers upto 87 are : \n",
      "3 5 7 11 13 17 19 23 29 31 37 41 43 47 53 59 61 67 71 73 79 83 "
     ]
    }
   ],
   "source": [
    "# Take input from user\n",
    "upto = int(input(\"Find prime numbers upto : \"))\n",
    "\n",
    "print(\"\\nAll prime numbers upto\", upto, \"are : \")\n",
    "\n",
    "for num in range(2, upto + 1):\n",
    "\n",
    "    i = 2\n",
    "\n",
    "    for i in range(2, num):\n",
    "        if(num % i == 0):\n",
    "            i = num\n",
    "            break;\n",
    "\n",
    "    # If the number is prime then print it.\n",
    "    if(i != num):\n",
    "        print(num, end=\" \")"
   ]
  },
  {
   "cell_type": "code",
   "execution_count": 1,
   "metadata": {},
   "outputs": [
    {
     "name": "stdout",
     "output_type": "stream",
     "text": [
      "67 is a prime number\n"
     ]
    }
   ],
   "source": [
    "\n",
    "num = int(input(\"Enter number:\"))\n",
    "# If given number is greater than 1\n",
    "if num > 1:\n",
    "    # Iterate from 2 to n / 2\n",
    "    for i in range(2, int(num/2)+1):\n",
    "        # If num is divisible by any number between\n",
    "        # 2 and n / 2, it is not prime\n",
    "        if (num % i) == 0:\n",
    "            print(num, \"is not a prime number\")\n",
    "            break\n",
    "    else:\n",
    "        print(num, \"is a prime number\")\n",
    "else:\n",
    "    print(num, \"is not a prime number\")"
   ]
  },
  {
   "cell_type": "code",
   "execution_count": 3,
   "metadata": {},
   "outputs": [
    {
     "name": "stdout",
     "output_type": "stream",
     "text": [
      "Number of digits: 13\n"
     ]
    }
   ],
   "source": [
    "num=int(input(\"enter the integer number:\"))\n",
    "count = 0\n",
    "\n",
    "while num != 0:\n",
    "    num //= 10\n",
    "    count += 1\n",
    "\n",
    "print(\"Number of digits: \" + str(count))"
   ]
  },
  {
   "cell_type": "code",
   "execution_count": 4,
   "metadata": {},
   "outputs": [
    {
     "name": "stdout",
     "output_type": "stream",
     "text": [
      "Reversed Number: 4030209200382736\n"
     ]
    }
   ],
   "source": [
    "num=int(input(\"enter the integer number:\"))\n",
    "reversed_num = 0\n",
    "\n",
    "while num != 0:\n",
    "    digit = num % 10\n",
    "    reversed_num = reversed_num * 10 + digit\n",
    "    num //= 10\n",
    "\n",
    "print(\"Reversed Number: \" + str(reversed_num))"
   ]
  },
  {
   "cell_type": "code",
   "execution_count": 8,
   "metadata": {},
   "outputs": [
    {
     "name": "stdout",
     "output_type": "stream",
     "text": [
      "Enter Two Numbers: \n",
      "LCM (75, 34) =  2550\n",
      "HCF (75, 34) =  1\n"
     ]
    }
   ],
   "source": [
    "print(\"Enter Two Numbers: \", end=\"\")\n",
    "no = int(input())\n",
    "nt = int(input())\n",
    "\n",
    "a = no\n",
    "b = nt\n",
    "while b!=0:\n",
    "    temp = b\n",
    "    b = a%b\n",
    "    a = temp\n",
    "\n",
    "hcf = a\n",
    "lcm = int((no*nt)/hcf)\n",
    "\n",
    "print(\"\\nLCM (\" + str(no) + \", \" + str(nt) + \") = \", lcm)\n",
    "print(\"HCF (\" + str(no) + \", \" + str(nt) + \") = \", hcf)"
   ]
  },
  {
   "cell_type": "code",
   "execution_count": 41,
   "metadata": {},
   "outputs": [
    {
     "name": "stdout",
     "output_type": "stream",
     "text": [
      "2\n",
      "13\n",
      "89.0\n"
     ]
    }
   ],
   "source": [
    "import math  \n",
    "# Below function will print the  \n",
    "# all prime factor of given number  \n",
    "def prime_factors(num):  \n",
    "    # Using the while loop, we will print the number of two's that divide n  \n",
    "    while num % 2 == 0:  \n",
    "        print(2,)  \n",
    "        num = num / 2  \n",
    "  \n",
    "    for i in range(3, int(math.sqrt(num)) + 1, 2):  \n",
    "  \n",
    "        # while i divides n , print i ad divide n  \n",
    "        while num % i == 0:  \n",
    "            print(i,)  \n",
    "            num = num / i  \n",
    "    if num > 2:  \n",
    "        print(num)  \n",
    "# calling function   \n",
    "  \n",
    "num = int(input(\"enter number:\")) \n",
    "prime_factors(num)  "
   ]
  },
  {
   "cell_type": "code",
   "execution_count": null,
   "metadata": {},
   "outputs": [],
   "source": [
    "n=int(input(\"Enter number: \"))\n",
    "rev=0\n",
    "while(n>0):\n",
    "dig=n%10\n",
    "rev=rev*10+dig\n",
    "n=n//10\n",
    "print(\"Reverse of the number: \",rev)"
   ]
  },
  {
   "cell_type": "code",
   "execution_count": null,
   "metadata": {},
   "outputs": [],
   "source": [
    "n=input(\"Enter your characters:\")\n",
    "m=len(n)-1\n",
    "p=\"\"\n",
    "while m>=0:\n",
    "p+=n[m]\n",
    "m-=1\n",
    "print((p))"
   ]
  },
  {
   "cell_type": "code",
   "execution_count": 40,
   "metadata": {},
   "outputs": [
    {
     "name": "stdout",
     "output_type": "stream",
     "text": [
      "[3, 1, 2, 5, 4]\n",
      "{3: 1, 1: 2, 2: 3, 5: 4, 4: 5}\n",
      "[2, 3, 1, 5, 4]\n",
      "23154"
     ]
    }
   ],
   "source": [
    "x=input(\"enter number which must have an arrangement of any set of consecutive numbers:\")\n",
    "l=len(x)\n",
    "str1='';L2=[];l1=[];L=[]\n",
    "for b in range(len(x)):\n",
    "    c=int(x[b])\n",
    "    L.append(c)\n",
    "print(L)\n",
    "for y in range(1,len(x)+1):\n",
    "    l1.append(y)\n",
    "d={}\n",
    "for a in range(len(L)):\n",
    "    d[L[a]]=l1[a]\n",
    "print(d)\n",
    "L.sort()\n",
    "for x in L:\n",
    "    L2.append(d[x])\n",
    "print(L2)\n",
    "for z in L2:\n",
    "    print(z,end='')\n",
    "\n",
    "\n"
   ]
  },
  {
   "cell_type": "code",
   "execution_count": 56,
   "metadata": {},
   "outputs": [
    {
     "name": "stdout",
     "output_type": "stream",
     "text": [
      "['3', '6', '2', '7', '4', '6']\n",
      "['3', '6', '2', '7']\n",
      "['4', '6']\n",
      "463627"
     ]
    }
   ],
   "source": [
    "x=input('Enter number:')\n",
    "e=int(x)\n",
    "z= int(input('Enter number of rotations:'))\n",
    "l=len(x);L=[];l1=list();l2=[]\n",
    "if e>0:\n",
    "    for y in range(l):\n",
    "        L.append(x[y])\n",
    "    print(L)\n",
    "    for a in range(z):\n",
    "        b=L.pop()\n",
    "        l1.append(b)\n",
    "    print(l1)\n",
    "    for c in range(len(l1)-1,-1,-1):\n",
    "        print(l1[c],end='')\n",
    "    for d in range(len(L)):\n",
    "        print(L[d],end='')\n",
    "elif e<0:\n",
    "    for y in range(1,l):\n",
    "        L.append(x[y])\n",
    "    print(L)\n",
    "    for a in range(z):\n",
    "        l1.append(L[a])\n",
    "    print(l1)\n",
    "    for b in range(z,len(L)):\n",
    "        l2.append(L[b])\n",
    "    print(l2)\n",
    "    for c in range(len(l2)):\n",
    "        print(l2[c],end='')\n",
    "    for d in range(len(l1)):\n",
    "        print(l1[d],end='')\n",
    "\n",
    "\n"
   ]
  },
  {
   "cell_type": "code",
   "execution_count": null,
   "metadata": {},
   "outputs": [],
   "source": [
    "# Function to find the count of\n",
    "# digits in N\n",
    "def numberOfDigit(N):\n",
    "  \n",
    "    # Stores count of\n",
    "    # digits in N\n",
    "    digit = 0\n",
    "  \n",
    "    # Calculate the count\n",
    "    # of digits in N\n",
    "    while (N > 0):\n",
    "  \n",
    "        # Update digit\n",
    "        digit += 1\n",
    "  \n",
    "        # Update N\n",
    "        N //= 10\n",
    "    return digit\n",
    "  \n",
    "# Function to rotate the digits of N by K\n",
    "def rotateNumberByK(N, K):\n",
    "  \n",
    "    # Stores count of digits in N\n",
    "    X = numberOfDigit(N)\n",
    "  \n",
    "    # Update K so that only need to\n",
    "    # handle left rotation\n",
    "    K = ((K % X) + X) % X\n",
    "  \n",
    "    # Stores first K digits of N\n",
    "    left_no = N // pow(10, X - K)\n",
    "  \n",
    "    # Remove first K digits of N\n",
    "    N = N % pow(10, X - K)\n",
    "  \n",
    "    # Stores count of digits in left_no\n",
    "    left_digit = numberOfDigit(left_no)\n",
    "  \n",
    "    # Append left_no to the right of\n",
    "    # digits of N\n",
    "    N = N * pow(10, left_digit) + left_no\n",
    "    print(N)\n",
    "  \n",
    "# Driver Code\n",
    "if __name__ == '__main__':\n",
    "    N, K = 12345, 7\n",
    "  \n",
    "    # Function Call\n",
    "    rotateNumberByK(N, K)\n",
    "  "
   ]
  }
 ],
 "metadata": {
  "kernelspec": {
   "display_name": "Python 3",
   "language": "python",
   "name": "python3"
  },
  "language_info": {
   "codemirror_mode": {
    "name": "ipython",
    "version": 3
   },
   "file_extension": ".py",
   "mimetype": "text/x-python",
   "name": "python",
   "nbconvert_exporter": "python",
   "pygments_lexer": "ipython3",
   "version": "3.10.5"
  },
  "orig_nbformat": 4,
  "vscode": {
   "interpreter": {
    "hash": "a9cff5a362bc38ef45d817ae74b1af54d6a076e3d773891282bce078b815ba34"
   }
  }
 },
 "nbformat": 4,
 "nbformat_minor": 2
}
